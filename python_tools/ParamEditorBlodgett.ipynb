{
 "cells": [
  {
   "cell_type": "code",
   "execution_count": 4,
   "metadata": {},
   "outputs": [],
   "source": [
    "#libraries\n",
    "import numpy as np\n",
    "from netCDF4 import Dataset\n",
    "import subprocess\n",
    "from pathlib import Path\n"
   ]
  },
  {
   "cell_type": "code",
   "execution_count": 5,
   "metadata": {},
   "outputs": [],
   "source": [
    "def ParamModify(parfile,pft,parnms,parvals,iscale=False):\n",
    "    \"\"\"\n",
    "    modify parameter parnm of pft on file parfile\n",
    "    \"\"\"\n",
    "    \n",
    "    with Dataset(parfile, 'r+') as nc_file:\n",
    "        variable = nc_file.variables['pfts']\n",
    "        \n",
    "        pft_loc=0\n",
    "        for var in variable:\n",
    "            result_string=''\n",
    "            for byte in var:\n",
    "                if byte:\n",
    "                    result_string=''.join([result_string,byte.decode('utf-8')])\n",
    "            #locate the pft       \n",
    "            if result_string.strip()==pft:\n",
    "                #locate the variable\n",
    "                for parnm,parval in zip(parnms,parvals):\n",
    "                    variable1=nc_file.variables[parnm]\n",
    "                    long_name = variable1.getncattr('long_name') if 'long_name' in variable1.ncattrs() else 'No long_name attribute'\n",
    "                    if iscale:\n",
    "                        print(\"%80s: %s for %s is %f, and changed to %f\"%(long_name,parnm,pft,variable1[pft_loc],parval*variable1[pft_loc]))\n",
    "                        variable1[pft_loc]=parval*variable1[pft_loc]\n",
    "                    else:\n",
    "                        print(\"%80s: %s for %s is %f, and changed to %f\"%(long_name,parnm,pft,variable1[pft_loc],parval))\n",
    "                        variable1[pft_loc]=parval\n",
    "                break\n",
    "            pft_loc=pft_loc+1\n"
   ]
  },
  {
   "cell_type": "code",
   "execution_count": 12,
   "metadata": {},
   "outputs": [
    {
     "name": "stdout",
     "output_type": "stream",
     "text": [
      "                                                 specific C3 rubisco carboxylase: VCMX for ENF234 is 40.000000, and changed to 40.000000\n",
      "                                                   specific chlorophyll activity: ETMX for ENF234 is 550.000000, and changed to 550.000000\n",
      "        rate constant for equilibrating shoot-root nonstructural C concentration: PTSHT for ENF234 is 0.005000, and changed to 0.005000\n",
      "                                                     growth in leaf area vs mass: SLA1 for ENF234 is 0.007000, and changed to 0.007000\n",
      "                                                                     Km for VOMX: XKO2 for ENF234 is 400.000000, and changed to 400.000000\n",
      "                                                                     Km for VCMX: XKCO2 for ENF234 is 12.500000, and changed to 12.500000\n",
      "                                                                 leaf PAR albedo: ALBP for ENF234 is 0.050000, and changed to 0.050000\n",
      "                                                         radial root resistivity: RSRR for ENF234 is 1000000.000000, and changed to 100000.000000\n",
      "                                                          axial root resistivity: RSRA for ENF234 is 2000000.000000, and changed to 200000.000000\n",
      "                                                        root branching frequency: RTFQ for ENF234 is 500.000000, and changed to 500.000000\n",
      "                                                                   root porosity: PORT for ENF234 is 0.010000, and changed to 0.010000\n"
     ]
    }
   ],
   "source": [
    "#how to \n",
    "parfile='/Users/jinyuntang/work/github/EcoSIM/input_data/ecosim_pft_20240314.nc'\n",
    "parfile='/Users/jinyuntang/work/github/ecosim_benchmark/smallset/Blodget/blodgett_pftpar_20241001.nc'\n",
    "parfile='/Users/jinyuntang/work/github/EcoSIM/examples/inputs/blodgett/blodgett_pftpar_20241010.nc'\n",
    "pft='ENF234'\n",
    "parnms=['VCMX','ETMX','PTSHT','SLA1','XKO2','XKCO2','ALBP','RSRR','RSRA','RTFQ','PORT']\n",
    "parvals=[40,550.,5.0e-3,7.e-3,400,12.5,0.05,1.e5,2.e5,500,1.E-2]\n",
    "#parnms=['PTSHT']\n",
    "#parvals=[1.5]\n",
    "\n",
    "#parnm='PORT'\n",
    "#ParamModify(parfile,pft,parnm,0.8)\n",
    "#parnm='RSRR'\n",
    "#parnm='RSRA'\n",
    "\n",
    "ParamModify(parfile,pft,parnms,parvals,iscale=False)\n"
   ]
  },
  {
   "cell_type": "code",
   "execution_count": null,
   "metadata": {},
   "outputs": [],
   "source": []
  },
  {
   "cell_type": "code",
   "execution_count": null,
   "metadata": {},
   "outputs": [],
   "source": []
  }
 ],
 "metadata": {
  "kernelspec": {
   "display_name": "Python 3 (ipykernel)",
   "language": "python",
   "name": "python3"
  },
  "language_info": {
   "codemirror_mode": {
    "name": "ipython",
    "version": 3
   },
   "file_extension": ".py",
   "mimetype": "text/x-python",
   "name": "python",
   "nbconvert_exporter": "python",
   "pygments_lexer": "ipython3",
   "version": "3.12.4"
  }
 },
 "nbformat": 4,
 "nbformat_minor": 4
}
