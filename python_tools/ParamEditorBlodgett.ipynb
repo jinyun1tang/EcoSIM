{
 "cells": [
  {
   "cell_type": "code",
   "execution_count": 4,
   "metadata": {},
   "outputs": [],
   "source": [
    "#libraries\n",
    "import numpy as np\n",
    "from netCDF4 import Dataset\n",
    "import subprocess\n",
    "from pathlib import Path\n"
   ]
  },
  {
   "cell_type": "code",
   "execution_count": 5,
   "metadata": {},
   "outputs": [],
   "source": [
    "def ParamModify(parfile,pft,parnms,parvals,iscale=False):\n",
    "    \"\"\"\n",
    "    modify parameter parnm of pft on file parfile\n",
    "    \"\"\"\n",
    "    \n",
    "    with Dataset(parfile, 'r+') as nc_file:\n",
    "        variable = nc_file.variables['pfts']\n",
    "        pft_loc=0\n",
    "        for var in variable:\n",
    "            result_string=''\n",
    "            for byte in var:\n",
    "                if byte:\n",
    "                    result_string=''.join([result_string,byte.decode('utf-8')])\n",
    "            #locate the pft       \n",
    "            if result_string.strip()==pft:\n",
    "                #locate the variable\n",
    "                for parnm,parval in zip(parnms,parvals):\n",
    "                    variable1=nc_file.variables[parnm]\n",
    "                    if iscale:\n",
    "                        print(\"%s for %s is %f, and changed to %f\"%(parnm,pft,variable1[pft_loc],parval*variable1[pft_loc]))\n",
    "                        variable1[pft_loc]=parval*variable1[pft_loc]\n",
    "                    else:\n",
    "                        print(\"%s for %s is %f, and changed to %f\"%(parnm,pft,variable1[pft_loc],parval))\n",
    "                        variable1[pft_loc]=parval\n",
    "                break\n",
    "            pft_loc=pft_loc+1\n"
   ]
  },
  {
   "cell_type": "code",
   "execution_count": 10,
   "metadata": {},
   "outputs": [
    {
     "name": "stdout",
     "output_type": "stream",
     "text": [
      "VCMX for ENF234 is 40.000000, and changed to 50.000000\n",
      "ETMX for ENF234 is 360.000000, and changed to 360.000000\n",
      "PTSHT for ENF234 is 0.010000, and changed to 0.010000\n",
      "SLA1 for ENF234 is 0.010000, and changed to 0.010000\n",
      "XKO2 for ENF234 is 400.000000, and changed to 400.000000\n",
      "XKCO2 for ENF234 is 12.500000, and changed to 12.500000\n",
      "CNLF for ENF234 is 0.040000, and changed to 0.040000\n",
      "CNSHE for ENF234 is 0.020000, and changed to 0.020000\n"
     ]
    }
   ],
   "source": [
    "#how to \n",
    "parfile='/Users/jinyuntang/work/github/EcoSIM/input_data/ecosim_pft_20240314.nc'\n",
    "parfile='/Users/jinyuntang/work/github/ecosim_benchmark/smallset/Blodget/blodgett_pftpar_20241001.nc'\n",
    "parfile='/Users/jinyuntang/work/github/EcoSIM/examples/inputs/blodgett/blodgett_pftpar_20241010.nc'\n",
    "pft='ENF234'\n",
    "parnms=['VCMX','ETMX','PTSHT','SLA1','XKO2','XKCO2','CNLF','CNSHE']\n",
    "parvals=[50,360.,1.0e-2,13.e-3,400,12.5,0.04,0.02]\n",
    "#parnms=['PTSHT']\n",
    "#parvals=[1.5]\n",
    "\n",
    "#parnm='PORT'\n",
    "#ParamModify(parfile,pft,parnm,0.8)\n",
    "#parnm='RSRR'\n",
    "#parnm='RSRA'\n",
    "\n",
    "ParamModify(parfile,pft,parnms,parvals,iscale=False)\n"
   ]
  },
  {
   "cell_type": "code",
   "execution_count": null,
   "metadata": {},
   "outputs": [],
   "source": []
  },
  {
   "cell_type": "code",
   "execution_count": null,
   "metadata": {},
   "outputs": [],
   "source": []
  }
 ],
 "metadata": {
  "kernelspec": {
   "display_name": "Python 3 (ipykernel)",
   "language": "python",
   "name": "python3"
  },
  "language_info": {
   "codemirror_mode": {
    "name": "ipython",
    "version": 3
   },
   "file_extension": ".py",
   "mimetype": "text/x-python",
   "name": "python",
   "nbconvert_exporter": "python",
   "pygments_lexer": "ipython3",
   "version": "3.12.2"
  }
 },
 "nbformat": 4,
 "nbformat_minor": 4
}
