{
 "cells": [
  {
   "cell_type": "code",
   "execution_count": 15,
   "metadata": {},
   "outputs": [],
   "source": [
    "#libraries\n",
    "import numpy as np\n",
    "from netCDF4 import Dataset\n",
    "import subprocess\n",
    "from pathlib import Path\n"
   ]
  },
  {
   "cell_type": "code",
   "execution_count": 16,
   "metadata": {},
   "outputs": [],
   "source": [
    "def ParamModify(parfile,pft,parnms,parvals,iscale=False):\n",
    "    \"\"\"\n",
    "    modify parameter parnm of pft on file parfile\n",
    "    \"\"\"\n",
    "    \n",
    "    with Dataset(parfile, 'r+') as nc_file:\n",
    "        variable = nc_file.variables['pfts']\n",
    "        \n",
    "        pft_loc=0\n",
    "        for var in variable:\n",
    "            result_string=''\n",
    "            for byte in var:\n",
    "                if byte:\n",
    "                    result_string=''.join([result_string,byte.decode('utf-8')])\n",
    "            #locate the pft       \n",
    "            if result_string.strip()==pft:\n",
    "                #locate the variable\n",
    "                for parnm,parval in zip(parnms,parvals):\n",
    "                    variable1=nc_file.variables[parnm]\n",
    "                    long_name = variable1.getncattr('long_name') if 'long_name' in variable1.ncattrs() else 'No long_name attribute'\n",
    "                    if iscale:\n",
    "                        print(\"%80s: %s for %s is %f, and changed to %f\"%(long_name,parnm,pft,variable1[pft_loc],parval*variable1[pft_loc]))\n",
    "                        variable1[pft_loc]=parval*variable1[pft_loc]\n",
    "                    else:\n",
    "                        print(\"%80s: %s for %s is %f, and changed to %f\"%(long_name,parnm,pft,variable1[pft_loc],parval))\n",
    "                        variable1[pft_loc]=parval\n",
    "                break\n",
    "            pft_loc=pft_loc+1\n"
   ]
  },
  {
   "cell_type": "code",
   "execution_count": 26,
   "metadata": {},
   "outputs": [
    {
     "name": "stdout",
     "output_type": "stream",
     "text": [
      "                                               specific PEP carboxylase activity: VCMX4 for maiz31 is 500.000000, and changed to 900.000000\n",
      "                                                                   NH4 uptake Km: UPKMZH for maiz31 is 5.000000, and changed to 5.000000\n",
      "                                                                   NO3 uptake Km: UPKMZO for maiz31 is 10.000000, and changed to 10.000000\n",
      "                                                 rate of node initiation at 25oC: XRNI for maiz31 is 0.025000, and changed to 0.025000\n",
      "                                                 rate of leaf appearance at 25oC: XRLA for maiz31 is 0.015000, and changed to 0.015000\n",
      "                                                   specific chlorophyll activity: ETMX for maiz31 is 1000.000000, and changed to 600.000000\n",
      "                                                     growth in leaf area vs mass: SLA1 for maiz31 is 0.015000, and changed to 0.015000\n",
      "                                                         radial root resistivity: RSRR for maiz31 is 5000.000000, and changed to 5000.000000\n",
      "                                                          axial root resistivity: RSRA for maiz31 is 10000.000000, and changed to 10000.000000\n",
      "initial plant maturity group, aka minimum number of vegetative nodes initiated before floral: GROUPX for maiz31 is 17.000000, and changed to 17.000000\n",
      "                                                           seed size at planting: GRDM for maiz31 is 0.150000, and changed to 0.150000\n",
      "                                                                  NO3 max uptake: UPMXZO for maiz31 is 0.100000, and changed to 0.100000\n",
      "                                                                  NH4 max uptake: UPMXZH for maiz31 is 0.025000, and changed to 0.025000\n",
      "                                             fraction of leaf protein in rubisco: RUBP for maiz31 is 0.100000, and changed to 0.100000\n",
      "                                     fraction of leaf protein in PEP carboxylase: PEPC for maiz31 is 0.015000, and changed to 0.015000\n",
      "                           fraction of leaf protein in mesophyll(C3) chlorophyll: CHL for maiz31 is 0.100000, and changed to 0.100000\n",
      "                       fraction of leaf protein in bundle sheath(C4) chlorophyll: CHL4 for maiz31 is 0.150000, and changed to 0.150000\n",
      "                                                        root branching frequency: RTFQ for maiz31 is 100.000000, and changed to 100.000000\n",
      "                         nonstructural C concentration needed for root branching: PR for maiz31 is 0.100000, and changed to 0.100000\n",
      "        rate constant for equilibrating shoot-root nonstructural C concentration: PTSHT for maiz31 is 0.030000, and changed to 0.030000\n",
      "\n",
      "                                                                   NH4 uptake Km: UPKMZH for soyb31 is 4.000000, and changed to 4.000000\n",
      "                                                                   NO3 uptake Km: UPKMZO for soyb31 is 15.000000, and changed to 15.000000\n",
      "                                                 rate of node initiation at 25oC: XRNI for soyb31 is 0.015000, and changed to 0.015000\n",
      "                                                 rate of leaf appearance at 25oC: XRLA for soyb31 is 0.012500, and changed to 0.012500\n",
      "                                                 node number in seed at planting: XTLI for soyb31 is 4.000000, and changed to 4.000000\n",
      "                                                 specific C3 rubisco carboxylase: VCMX for soyb31 is 50.000000, and changed to 50.000000\n",
      "                                             specific rubisco oxygenase activity: VOMX for soyb31 is 12.000000, and changed to 12.000000\n",
      "                                                   specific chlorophyll activity: ETMX for soyb31 is 750.000000, and changed to 750.000000\n",
      "                                                         radial root resistivity: RSRR for soyb31 is 5000.000000, and changed to 5000.000000\n",
      "                                                          axial root resistivity: RSRA for soyb31 is 10000.000000, and changed to 10000.000000\n",
      "                                             hour requirement for spring leafout: VRNLI for soyb31 is 24.000000, and changed to 24.000000\n",
      "                                                           seed size at planting: GRDM for soyb31 is 0.080000, and changed to 0.080000\n",
      "                                                                   root porosity: PORT for soyb31 is 0.150000, and changed to 0.150000\n",
      "                                                     growth in leaf area vs mass: SLA1 for soyb31 is 0.010000, and changed to 0.010000\n",
      "initial plant maturity group, aka minimum number of vegetative nodes initiated before floral: GROUPX for soyb31 is 17.000000, and changed to 17.000000\n",
      "                             leaf osmotic potential at zero leaf water potential: OSMO for soyb31 is -1.500000, and changed to -1.500000\n",
      "                                                                  NO3 max uptake: UPMXZO for soyb31 is 0.100000, and changed to 0.100000\n",
      "                                                                  NH4 max uptake: UPMXZH for soyb31 is 0.030000, and changed to 0.030000\n",
      "                                             fraction of leaf protein in rubisco: RUBP for soyb31 is 0.250000, and changed to 0.250000\n",
      "                           fraction of leaf protein in mesophyll(C3) chlorophyll: CHL for soyb31 is 0.040000, and changed to 0.040000\n",
      "                                                        root branching frequency: RTFQ for soyb31 is 550.000000, and changed to 550.000000\n",
      "                         nonstructural C concentration needed for root branching: PR for soyb31 is 0.100000, and changed to 0.100000\n",
      "        rate constant for equilibrating shoot-root nonstructural C concentration: PTSHT for soyb31 is 0.008000, and changed to 0.008000\n",
      "                                                       radius of secondary roots: RRAD2M for soyb31 is 0.000006, and changed to 0.000006\n"
     ]
    }
   ],
   "source": [
    "#how to \n",
    "parfile='/Users/jinyuntang/work/github/EcoSIM/input_data/ecosim_pftpar_20240723.nc'\n",
    "pft='maiz31'\n",
    "parnms=['VCMX4','UPKMZH','UPKMZO','XRNI','XRLA','ETMX','SLA1','RSRR','RSRA','GROUPX','GRDM','UPMXZO','UPMXZH','RUBP','PEPC','CHL','CHL4','RTFQ','PR','PTSHT']\n",
    "parvals=[900,5.,10.,0.025,0.015,600,0.015,5.e3,10.e3,17.,0.15,1.e-1,2.5e-2,0.1,0.015,0.1,0.15,100,0.1,3.e-2]\n",
    "\n",
    "ParamModify(parfile,pft,parnms,parvals,iscale=False)\n",
    "print('')\n",
    "#ParamModify(parfile,pft,parnm,0.8)\n",
    "#parnm='RSRR'\n",
    "#parnm='RSRA'\n",
    "pft='soyb31'\n",
    "parnms=['UPKMZH','UPKMZO','XRNI','XRLA','XTLI','VCMX','VOMX','ETMX','RSRR','RSRA','VRNLI','GRDM','PORT','SLA1','GROUPX','OSMO','UPMXZO','UPMXZH','RUBP','CHL','RTFQ','PR','PTSHT','RRAD2M']\n",
    "parvals=[4.,15.,0.015,0.0125,4.,50.,12.0,750,5.e3,10.e3,24,0.08,0.15,0.01,17,-1.5,1.e-1,3.e-2,0.25,0.04,350,0.1,8.e-3,6.e-6]\n",
    "\n",
    "ParamModify(parfile,pft,parnms,parvals,iscale=False)\n"
   ]
  },
  {
   "cell_type": "code",
   "execution_count": null,
   "metadata": {},
   "outputs": [],
   "source": []
  },
  {
   "cell_type": "code",
   "execution_count": null,
   "metadata": {},
   "outputs": [],
   "source": []
  }
 ],
 "metadata": {
  "kernelspec": {
   "display_name": "Python 3 (ipykernel)",
   "language": "python",
   "name": "python3"
  },
  "language_info": {
   "codemirror_mode": {
    "name": "ipython",
    "version": 3
   },
   "file_extension": ".py",
   "mimetype": "text/x-python",
   "name": "python",
   "nbconvert_exporter": "python",
   "pygments_lexer": "ipython3",
   "version": "3.12.4"
  }
 },
 "nbformat": 4,
 "nbformat_minor": 4
}
