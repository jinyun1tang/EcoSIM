{
 "cells": [
  {
   "cell_type": "code",
   "execution_count": 2,
   "id": "ccad0d12-9231-49f3-819a-f0c93fca79dc",
   "metadata": {},
   "outputs": [
    {
     "data": {
      "application/vnd.jupyter.widget-view+json": {
       "model_id": "960285e25c2c4ba482a794d15fe37661",
       "version_major": 2,
       "version_minor": 0
      },
      "text/plain": [
       "FileUpload(value=(), accept='.nc', description='Upload')"
      ]
     },
     "metadata": {},
     "output_type": "display_data"
    }
   ],
   "source": [
    "import ipywidgets as widgets\n",
    "from IPython.display import display\n",
    "import netCDF4\n",
    "import io\n",
    "\n",
    "# Create file upload widget for .nc (NetCDF) files\n",
    "upload_widget = widgets.FileUpload(accept='.nc', multiple=False)  # Accept only .nc files\n",
    "\n",
    "# Function to display NetCDF file content\n",
    "def display_netcdf_content(change):\n",
    "    # Get the uploaded file\n",
    "    uploaded_file = list(upload_widget.value.values())[0]\n",
    "    file_content = uploaded_file['content']  # Get the binary content\n",
    "    \n",
    "    # Open the file using netCDF4 from the binary data (in-memory)\n",
    "    nc_file = netCDF4.Dataset('dummy', mode='r', memory=file_content)\n",
    "    \n",
    "    # Display file information (summary)\n",
    "    print(\"File Information:\")\n",
    "    print(nc_file)\n",
    "    \n",
    "    # Display the names of the dimensions and variables\n",
    "    print(\"\\nDimensions:\")\n",
    "    for dim in nc_file.dimensions.items():\n",
    "        print(dim)\n",
    "\n",
    "    print(\"\\nVariables:\")\n",
    "    for var in nc_file.variables.items():\n",
    "        print(var)\n",
    "\n",
    "# Listen for changes (file upload)\n",
    "upload_widget.observe(display_netcdf_content, names='value')\n",
    "\n",
    "# Display the upload widget\n",
    "display(upload_widget)"
   ]
  },
  {
   "cell_type": "code",
   "execution_count": null,
   "id": "46eabda5-ba66-4d65-b36d-083c6c300ea7",
   "metadata": {},
   "outputs": [],
   "source": []
  }
 ],
 "metadata": {
  "kernelspec": {
   "display_name": "Python 3 (ipykernel)",
   "language": "python",
   "name": "python3"
  },
  "language_info": {
   "codemirror_mode": {
    "name": "ipython",
    "version": 3
   },
   "file_extension": ".py",
   "mimetype": "text/x-python",
   "name": "python",
   "nbconvert_exporter": "python",
   "pygments_lexer": "ipython3",
   "version": "3.12.2"
  }
 },
 "nbformat": 4,
 "nbformat_minor": 5
}
