{
 "cells": [
  {
   "cell_type": "code",
   "execution_count": 11,
   "metadata": {},
   "outputs": [],
   "source": [
    "#libraries\n",
    "import numpy as np\n",
    "from netCDF4 import Dataset\n",
    "import subprocess\n",
    "from pathlib import Path\n"
   ]
  },
  {
   "cell_type": "code",
   "execution_count": 12,
   "metadata": {},
   "outputs": [],
   "source": [
    "def ParamModify(parfile,pft,parnms,parvals,iscale=False):\n",
    "    \"\"\"\n",
    "    modify parameter parnm of pft on file parfile\n",
    "    \"\"\"\n",
    "        \n",
    "    with Dataset(parfile, 'r+') as nc_file:\n",
    "        variable = nc_file.variables['pfts']\n",
    "        \n",
    "        pft_loc=0\n",
    "        for var in variable:\n",
    "            result_string=''\n",
    "            for byte in var:\n",
    "                if byte:\n",
    "                    result_string=''.join([result_string,byte.decode('utf-8')])\n",
    "            #locate the pft       \n",
    "            if result_string.strip()==pft:\n",
    "                #locate the variable\n",
    "                for parnm,parval in zip(parnms,parvals):\n",
    "                    variable1=nc_file.variables[parnm]\n",
    "                    long_name = variable1.getncattr('long_name') if 'long_name' in variable1.ncattrs() else 'No long_name attribute'\n",
    "                    if iscale:\n",
    "                        print(\"%80s: %s for %s is %f, and changed to %f\"%(long_name,parnm,pft,variable1[pft_loc],parval*variable1[pft_loc]))\n",
    "                        variable1[pft_loc]=parval*variable1[pft_loc]\n",
    "                    else:\n",
    "                        print(\"%80s: %s for %s is %f, and changed to %f\"%(long_name,parnm,pft,variable1[pft_loc],parval))\n",
    "                        variable1[pft_loc]=parval\n",
    "                break\n",
    "            pft_loc=pft_loc+1\n"
   ]
  },
  {
   "cell_type": "code",
   "execution_count": 16,
   "metadata": {},
   "outputs": [
    {
     "name": "stdout",
     "output_type": "stream",
     "text": [
      "                                                         radial root resistivity: RSRR for gr3a35 is 10000.000000, and changed to 10000.000000\n",
      "                                                          axial root resistivity: RSRA for gr3a35 is 100000.000000, and changed to 100000.000000\n",
      "                           fraction of leaf protein in mesophyll(C3) chlorophyll: CHL for gr3a35 is 0.040000, and changed to 0.040000\n",
      "                             leaf osmotic potential at zero leaf water potential: OSMO for gr3a35 is -1.350000, and changed to -1.350000\n",
      "                                                   specific chlorophyll activity: ETMX for gr3a35 is 500.000000, and changed to 500.000000\n",
      "                                                 specific C3 rubisco carboxylase: VCMX for gr3a35 is 60.000000, and changed to 60.000000\n",
      "                                                       radius of secondary roots: RRAD2M for gr3a35 is 0.000010, and changed to 0.000010\n",
      "\n",
      "                                                         radial root resistivity: RSRR for clva35 is 10000.000000, and changed to 10000.000000\n",
      "                                                          axial root resistivity: RSRA for clva35 is 100000.000000, and changed to 100000.000000\n",
      "                           fraction of leaf protein in mesophyll(C3) chlorophyll: CHL for clva35 is 0.040000, and changed to 0.040000\n",
      "                             leaf osmotic potential at zero leaf water potential: OSMO for clva35 is -1.350000, and changed to -1.350000\n",
      "                                                   petiole angle from horizontal: ANGSH for clva35 is 45.000000, and changed to 45.000000\n",
      "                                                      stem angle from horizontal: ANGBR for clva35 is 0.000000, and changed to 0.000000\n",
      "                                                                    root profile: IGTYP for clva35 is 2.000000, and changed to 2.000000\n",
      "                                                   specific chlorophyll activity: ETMX for clva35 is 500.000000, and changed to 500.000000\n",
      "                                                 specific C3 rubisco carboxylase: VCMX for clva35 is 60.000000, and changed to 60.000000\n",
      "                                                       radius of secondary roots: RRAD2M for clva35 is 0.000100, and changed to 0.000010\n"
     ]
    }
   ],
   "source": [
    "#how to \n",
    "parfile='/Users/jinyuntang/work/github/EcoSIM/input_data/ecosim_pftpar_20240723.nc'\n",
    "pft='gr3a35'\n",
    "parnms=['RSRR','RSRA','CHL','OSMO','ETMX','VCMX','RRAD2M']\n",
    "parvals=[10.e3,100.e3,0.04,-1.35,500,60,1.e-5]\n",
    "\n",
    "ParamModify(parfile,pft,parnms,parvals,iscale=False)\n",
    "print('')\n",
    "pft='clva35'\n",
    "parnms=['RSRR','RSRA','CHL','OSMO','ANGSH','ANGBR','IGTYP','ETMX','VCMX','RRAD2M']\n",
    "parvals=[10.e3,100.e3,0.04,-1.35,45,0,2,500,60,1.e-5]\n",
    "\n",
    "ParamModify(parfile,pft,parnms,parvals,iscale=False)\n"
   ]
  },
  {
   "cell_type": "code",
   "execution_count": null,
   "metadata": {},
   "outputs": [],
   "source": []
  }
 ],
 "metadata": {
  "kernelspec": {
   "display_name": "Python 3 (ipykernel)",
   "language": "python",
   "name": "python3"
  },
  "language_info": {
   "codemirror_mode": {
    "name": "ipython",
    "version": 3
   },
   "file_extension": ".py",
   "mimetype": "text/x-python",
   "name": "python",
   "nbconvert_exporter": "python",
   "pygments_lexer": "ipython3",
   "version": "3.12.4"
  }
 },
 "nbformat": 4,
 "nbformat_minor": 4
}
