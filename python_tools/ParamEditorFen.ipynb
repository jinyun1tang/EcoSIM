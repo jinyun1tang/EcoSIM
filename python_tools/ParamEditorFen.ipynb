{
 "cells": [
  {
   "cell_type": "code",
   "execution_count": 2,
   "metadata": {},
   "outputs": [],
   "source": [
    "#libraries\n",
    "import numpy as np\n",
    "from netCDF4 import Dataset\n",
    "import subprocess\n",
    "from pathlib import Path\n"
   ]
  },
  {
   "cell_type": "code",
   "execution_count": 12,
   "metadata": {},
   "outputs": [],
   "source": [
    "def ParamModify(parfile,pft,parnms,parvals,iscale=False):\n",
    "    \"\"\"\n",
    "    modify parameter parnm of pft on file parfile\n",
    "    \"\"\"\n",
    "    \n",
    "    with Dataset(parfile, 'r+') as nc_file:\n",
    "        variable = nc_file.variables['pfts']\n",
    "        \n",
    "        pft_loc=0\n",
    "        for var in variable:\n",
    "            result_string=''\n",
    "            for byte in var:\n",
    "                if byte:\n",
    "                    result_string=''.join([result_string,byte.decode('utf-8')])\n",
    "            #locate the pft       \n",
    "            if result_string.strip()==pft:\n",
    "                #locate the variable\n",
    "                for parnm,parval in zip(parnms,parvals):\n",
    "                    variable1=nc_file.variables[parnm]\n",
    "                    long_name = variable1.getncattr('long_name') if 'long_name' in variable1.ncattrs() else 'No long_name attribute'\n",
    "                    if iscale:\n",
    "                        print(\"%-100s: %s for %s is %f, and changed to %f\"%(long_name,parnm,pft,variable1[pft_loc],parval*variable1[pft_loc]))\n",
    "                        variable1[pft_loc]=parval*variable1[pft_loc]\n",
    "                    else:\n",
    "                        print(\"%-100s: %s for %s is %f, and changed to %f\"%(long_name,parnm,pft,variable1[pft_loc],parval))\n",
    "                        variable1[pft_loc]=parval\n",
    "                break\n",
    "            pft_loc=pft_loc+1\n",
    "\n"
   ]
  },
  {
   "cell_type": "code",
   "execution_count": 24,
   "metadata": {},
   "outputs": [
    {
     "name": "stdout",
     "output_type": "stream",
     "text": [
      "specific chlorophyll activity                                                                       : ETMX for sedg62 is 550.000000, and changed to 500.000000\n",
      "growth in leaf area vs mass                                                                         : SLA1 for sedg62 is 0.003000, and changed to 0.003000\n",
      "root porosity                                                                                       : PORT for sedg62 is 0.450000, and changed to 0.450000\n",
      "specific C3 rubisco carboxylase                                                                     : VCMX for sedg62 is 45.000000, and changed to 45.000000\n",
      "leaf PAR albedo                                                                                     : ALBP for sedg62 is 0.075000, and changed to 0.075000\n",
      "rate constant for equilibrating shoot-root nonstructural C concentration                            : PTSHT for sedg62 is 0.040000, and changed to 0.040000\n",
      "hour requirement for autumn leafoff                                                                 : VRNXI for sedg62 is 720.000000, and changed to 720.000000\n",
      "initial plant maturity group, aka minimum number of vegetative nodes initiated before floral        : GROUPX for sedg62 is 6.500000, and changed to 6.500000\n",
      "rate of node initiation at 25oC                                                                     : XRNI for sedg62 is 0.015000, and changed to 0.015000\n",
      "root branching frequency                                                                            : RTFQ for sedg62 is 1200.000000, and changed to 1200.000000\n",
      "fraction of leaf protein in mesophyll(C3) chlorophyll                                               : CHL for sedg62 is 0.025000, and changed to 0.025000\n",
      "thermal adaptation zone                                                                             : ZTYPI for sedg62 is 1.000000, and changed to 1.000000\n",
      "nonstructural C concentration needed for branching                                                  : PB for sedg62 is 0.100000, and changed to 0.100000\n",
      "hour requirement for spring leafout                                                                 : VRNLI for sedg62 is 40.000000, and changed to 40.000000\n",
      "chilling temperature for CO2 fixation, seed loss                                                    : CTC for sedg62 is -10.000000, and changed to -10.000000\n",
      "radial root resistivity                                                                             : RSRR for sedg62 is 500000.000000, and changed to 500000.000000\n",
      "axial root resistivity                                                                              : RSRA for sedg62 is 1000000.000000, and changed to 1000000.000000\n"
     ]
    }
   ],
   "source": [
    "#how to \n",
    "parfile='../input_data/ecosim_pftpar_20240723.nc'\n",
    "pft='sedg62'\n",
    "parnms=['ETMX','SLA1','PORT','VCMX','ALBP','PTSHT','VRNXI','GROUPX','XRNI','RTFQ','CHL','ZTYPI','PB','VRNLI','CTC','RSRR','RSRA']\n",
    "parvals=[500,0.003,0.45,45,0.075,0.04,720,6.5,0.015,1200,0.025,1.0,0.1,40,-10,5.e5,10.e5]\n",
    "#parnms=['GRDM']\n",
    "#parvals=[0.5];\n",
    "#parvals=[400.,0.9]\n",
    "#ParamModify(parfile,pft,parnm,0.8)\n",
    "#parnm='RSRR'\n",
    "#parnm='RSRA'\n",
    "\n",
    "ParamModify(parfile,pft,parnms,parvals,iscale=False)\n"
   ]
  },
  {
   "cell_type": "code",
   "execution_count": null,
   "metadata": {},
   "outputs": [],
   "source": []
  },
  {
   "cell_type": "code",
   "execution_count": null,
   "metadata": {},
   "outputs": [],
   "source": []
  }
 ],
 "metadata": {
  "kernelspec": {
   "display_name": "Python 3 (ipykernel)",
   "language": "python",
   "name": "python3"
  },
  "language_info": {
   "codemirror_mode": {
    "name": "ipython",
    "version": 3
   },
   "file_extension": ".py",
   "mimetype": "text/x-python",
   "name": "python",
   "nbconvert_exporter": "python",
   "pygments_lexer": "ipython3",
   "version": "3.12.4"
  }
 },
 "nbformat": 4,
 "nbformat_minor": 4
}
